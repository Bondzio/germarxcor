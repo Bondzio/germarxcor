{
 "cells": [
  {
   "cell_type": "code",
   "execution_count": 2,
   "metadata": {},
   "outputs": [],
   "source": [
    "from bs4 import BeautifulSoup as BS\n",
    "import re\n",
    "import os"
   ]
  },
  {
   "cell_type": "code",
   "execution_count": 12,
   "metadata": {},
   "outputs": [],
   "source": [
    "input_file = \"germarxcor/html/marx_engels/me01/me01_003.htm\"\n",
    "output_file = \"germarxcor/tei/marx_engels/me01/me01_003.xml\"\n",
    "if not os.path.exists(os.path.dirname(output_file)):\n",
    "    os.makedirs(os.path.dirname(output_file))"
   ]
  },
  {
   "cell_type": "code",
   "execution_count": 14,
   "metadata": {},
   "outputs": [],
   "source": [
    "with open(input_file) as file:\n",
    "    html = BS(file.read(), \"html.parser\")   "
   ]
  },
  {
   "cell_type": "code",
   "execution_count": 34,
   "metadata": {},
   "outputs": [],
   "source": [
    "fulltitle = html.find(\"title\")\n",
    "matches = re.match(r\"(.*): (.*)\", fulltitle.text)\n",
    "title = matches[2]\n",
    "author = matches[1]\n",
    "dig_source_name = \"Stimmen der proletarischen Revolution\"\n",
    "dig_source_url = \"http://www.mlwerke.de\"\n",
    "dig_source_licence = \"N/A\"\n",
    "dig_source_licence_url = \"http://mlwerke.de/ies/kontakt.htm\"\n",
    "text = html.find(\"body\").getText()"
   ]
  },
  {
   "cell_type": "code",
   "execution_count": 39,
   "metadata": {},
   "outputs": [],
   "source": [
    "tei = f\"\"\"\n",
    "<?xml version=\"1.0\" encoding=\"UTF-8\"?>\n",
    "<TEI xmlns=\"http://www.tei-c.org/ns/1.0\" xml:lang=\"de\">\n",
    "    <teiHeader>\n",
    "        <fileDesc>\n",
    "            <titleStmt>\n",
    "                <title>{title}</title>\n",
    "                <author>{author}</author>\n",
    "            </titleStmt>\n",
    "            <publicationStmt>\n",
    "                <publisher>Pascal Hein</publisher>\n",
    "                <idno type=\"URL\">https://www.github.com/heinp/germarxcor</idno>\n",
    "                <availability>\n",
    "                    <licence>\n",
    "                        <ab>CC-BY-4.0</ab>\n",
    "                        <ref target=\"https://creativecommons.org/licenses/by/4.0/deed.de\">licence</ref>\n",
    "                    </licence>\n",
    "                </availability>\n",
    "            </publicationStmt>\n",
    "            <sourceDesc>\n",
    "                <bibl type=\"digitalSource\">\n",
    "                    <name>{dig_source_name}</name>\n",
    "                    <idno type=\"URL\">{dig_source_url}</idno>\n",
    "                    <availability>\n",
    "                        <licence>\n",
    "                            <ab>{dig_source_licence}</ab>\n",
    "                            <ref target=\"{dig_source_licence_url}\">licence</ref>\n",
    "                        </licence>\n",
    "                    </availability>\n",
    "                </bibl>\n",
    "            </sourceDesc>\n",
    "        </fileDesc>\n",
    "    </teiHeader>\n",
    "    <text>\n",
    "        <body>\n",
    "            {text}\n",
    "        </body>\n",
    "    </text>\n",
    "</TEI>\"\"\""
   ]
  },
  {
   "cell_type": "code",
   "execution_count": 41,
   "metadata": {},
   "outputs": [],
   "source": [
    "with open(output_file, \"w\") as file:\n",
    "    file.write(tei)"
   ]
  }
 ],
 "metadata": {
  "kernelspec": {
   "display_name": "Python 3",
   "language": "python",
   "name": "python3"
  },
  "language_info": {
   "codemirror_mode": {
    "name": "ipython",
    "version": 3
   },
   "file_extension": ".py",
   "mimetype": "text/x-python",
   "name": "python",
   "nbconvert_exporter": "python",
   "pygments_lexer": "ipython3",
   "version": "3.6.8"
  }
 },
 "nbformat": 4,
 "nbformat_minor": 2
}
