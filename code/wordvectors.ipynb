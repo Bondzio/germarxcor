{
 "cells": [
  {
   "cell_type": "code",
   "execution_count": 1,
   "metadata": {},
   "outputs": [],
   "source": [
    "from gensim.models import Word2Vec\n",
    "from nltk.tokenize import sent_tokenize, word_tokenize"
   ]
  },
  {
   "cell_type": "code",
   "execution_count": 2,
   "metadata": {},
   "outputs": [],
   "source": [
    "with open(\"../txt/marx_engels/marx_engels_total.txt\") as f:\n",
    "    me_total = f.read()\n",
    "with open(\"../txt/trotzki/trotzki_total.txt\") as f:\n",
    "    trotzki_total = f.read()\n",
    "with open(\"../txt/stalin/stalin_total.txt\") as f:\n",
    "    stalin_total = f.read()"
   ]
  },
  {
   "cell_type": "code",
   "execution_count": 3,
   "metadata": {},
   "outputs": [],
   "source": [
    "def prepare(text):\n",
    "    sents = sent_tokenize(text)\n",
    "    words = [word_tokenize(sent) for sent in sents]\n",
    "    return words"
   ]
  },
  {
   "cell_type": "code",
   "execution_count": 6,
   "metadata": {},
   "outputs": [],
   "source": [
    "me_prepared = prepare(me_total)\n",
    "trotzki_prepared = prepare(trotzki_total)\n",
    "stalin_prepared = prepare(stalin_total)"
   ]
  },
  {
   "cell_type": "code",
   "execution_count": 13,
   "metadata": {},
   "outputs": [],
   "source": [
    "with open(\"german-amazon-reviews.txt\", encoding=\"iso-8859-15\") as f:\n",
    "    amazon = f.read()"
   ]
  },
  {
   "cell_type": "code",
   "execution_count": 14,
   "metadata": {},
   "outputs": [],
   "source": [
    "amazon_prepared = prepare(amazon)"
   ]
  },
  {
   "cell_type": "code",
   "execution_count": 41,
   "metadata": {},
   "outputs": [
    {
     "name": "stdout",
     "output_type": "stream",
     "text": [
      "me\n",
      "trotzki\n",
      "stalin\n",
      "amazon\n"
     ]
    }
   ],
   "source": [
    "print(\"me\")\n",
    "model_me = Word2Vec(me_prepared, size=300)\n",
    "print(\"trotzki\")\n",
    "model_trotzki = Word2Vec(trotzki_prepared, size=300)\n",
    "print(\"stalin\")\n",
    "model_stalin = Word2Vec(stalin_prepared, size=300)\n",
    "print(\"amazon\")\n",
    "model_amazon = Word2Vec(amazon_prepared, size=300)"
   ]
  },
  {
   "cell_type": "code",
   "execution_count": 57,
   "metadata": {},
   "outputs": [
    {
     "name": "stdout",
     "output_type": "stream",
     "text": [
      "[('Flotte', 0.818668007850647), ('Truppen', 0.8157972097396851), ('Kavallerie', 0.7579588890075684), ('Artillerie', 0.7291944622993469), ('Position', 0.7245581150054932), ('Streitkräfte', 0.7153795957565308), ('Festung', 0.714713454246521), ('Garnison', 0.7123770117759705), ('Infanterie', 0.7063800096511841), ('Schlacht', 0.7007136940956116)]\n",
      "[('Bürokratie', 0.9351111650466919), ('Sozialdemokratie', 0.9092366099357605), ('Bourgeoisie', 0.9002584218978882), ('Arbeiterklasse', 0.898350715637207), ('Intelligenz', 0.8885919451713562), ('Garnison', 0.8768906593322754), ('Bauernschaft', 0.8748764395713806), ('UdSSR', 0.8641899824142456), ('Bewegung', 0.8611583709716797), ('Wirtschaft', 0.8566991090774536)]\n",
      "[('Heimat', 0.7084632515907288), ('Flotte', 0.6961424946784973), ('Truppen', 0.6792908906936646), ('Aufbauarbeit', 0.6564610600471497), ('Armeen', 0.6428441405296326), ('Front', 0.6264467239379883), ('Gewerkschaftsinternationale', 0.6186168193817139), ('Funktionäre', 0.6159325242042542), ('Parteiorganisationen', 0.6135824918746948), ('Kraft', 0.6133130192756653)]\n",
      "[('Rasse', 0.7073506116867065), ('Regierung', 0.7038128972053528), ('Kolonie', 0.6921778321266174), ('BrÃŒcke', 0.6740583777427673), ('Mauer', 0.6717073917388916), ('Gesellschaft', 0.6646957993507385), ('Bedrohung', 0.655580997467041), ('Gemeinschaft', 0.6537054777145386), ('Mission', 0.6498859524726868), ('KÃ¶nigin', 0.6478523015975952)]\n"
     ]
    }
   ],
   "source": [
    "word = \"Armee\"\n",
    "n = 10\n",
    "\n",
    "sim_me = model_me.wv.similar_by_vector(word, topn=n)\n",
    "print(sim_me)\n",
    "sim_me = {elem[0]:i+1 for i, elem in enumerate(sim_me)}\n",
    "\n",
    "sim_t = model_trotzki.wv.similar_by_vector(word, topn=n)\n",
    "print(sim_t)\n",
    "sim_t = {elem[0]:i+1 for i, elem in enumerate(sim_t)}\n",
    "\n",
    "sim_s = model_stalin.wv.similar_by_vector(word, topn=n)\n",
    "print(sim_s)\n",
    "sim_s = {elem[0]:i+1 for i, elem in enumerate(sim_s)}\n",
    "\n",
    "sim_a = model_amazon.wv.similar_by_vector(word, topn=n)\n",
    "print(sim_a)\n",
    "sim_a = {elem[0]:i+1 for i, elem in enumerate(sim_a)}"
   ]
  },
  {
   "cell_type": "code",
   "execution_count": 17,
   "metadata": {},
   "outputs": [],
   "source": [
    "def compare_lists(l1, l2):\n",
    "    d1 = {elem[0]: i+1 for i, elem in enumerate(l1)}\n",
    "    d2 = {elem[0]: i+1 for i, elem in enumerate(l2)}\n",
    "    s1 = set(d1)\n",
    "    s2 = set(d2)\n",
    "\n",
    "    res = 0\n",
    "    for elem in s1.intersection(s2):\n",
    "        res += (len(l1) - abs(d1[elem] - d2[elem])) / len(l1)**2\n",
    "    return res"
   ]
  },
  {
   "cell_type": "code",
   "execution_count": 58,
   "metadata": {},
   "outputs": [
    {
     "name": "stdout",
     "output_type": "stream",
     "text": [
      "Trotzki: 0.26\n",
      "Stalin:  0.44999999999999996\n",
      "T-S   :  0.18\n",
      "Amazon:  0.13\n"
     ]
    }
   ],
   "source": [
    "print(\"Trotzki:\", compare_lists(sim_me, sim_t))\n",
    "print(\"Stalin: \", compare_lists(sim_me, sim_s))\n",
    "print(\"T-S   : \", compare_lists(sim_s, sim_t))\n",
    "print(\"Amazon: \", compare_lists(sim_me, sim_a))"
   ]
  }
 ],
 "metadata": {
  "kernelspec": {
   "display_name": "Python 3",
   "language": "python",
   "name": "python3"
  },
  "language_info": {
   "codemirror_mode": {
    "name": "ipython",
    "version": 3
   },
   "file_extension": ".py",
   "mimetype": "text/x-python",
   "name": "python",
   "nbconvert_exporter": "python",
   "pygments_lexer": "ipython3",
   "version": "3.6.8"
  }
 },
 "nbformat": 4,
 "nbformat_minor": 2
}
