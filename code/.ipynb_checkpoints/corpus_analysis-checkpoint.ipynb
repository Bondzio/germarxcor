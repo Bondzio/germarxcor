{
 "cells": [
  {
   "cell_type": "code",
   "execution_count": 7,
   "metadata": {},
   "outputs": [],
   "source": [
    "from lxml import etree as ET\n",
    "from argparse import ArgumentParser\n",
    "import sys\n",
    "from os import path\n",
    "from collections import defaultdict\n",
    "import matplotlib.pyplot as plt\n",
    "import random\n",
    "import numpy as np\n",
    "import glob"
   ]
  },
  {
   "cell_type": "code",
   "execution_count": 2,
   "metadata": {},
   "outputs": [],
   "source": [
    "def type_token_ratio(toks, n=None, method=\"abs\"):\n",
    "    if method == \"abs\":\n",
    "        tok_count = len(toks)\n",
    "        type_count = len(set(toks))\n",
    "    if method == \"samp\":\n",
    "        tok_count = n if n is not None else 50000\n",
    "        r = 5\n",
    "        type_counts = [len(set(random.sample(toks, tok_count))) for _ in range(r)]\n",
    "        type_count = sum(type_counts)/r\n",
    "    if method == \"sttr\":\n",
    "        chunk_size = n if n is not None else 1000\n",
    "        chunks = len(toks)//1000\n",
    "        total = 0\n",
    "        for chunk in range(chunks):\n",
    "            start = chunk * chunk_size\n",
    "            end = start + chunk_size\n",
    "            ttr = type_token_ratio(toks[start:end])\n",
    "            total += ttr\n",
    "        return total / chunks\n",
    "    return type_count / tok_count\n"
   ]
  },
  {
   "cell_type": "code",
   "execution_count": 11,
   "metadata": {},
   "outputs": [],
   "source": [
    "def org_files(files):\n",
    "    orged_files = defaultdict(lambda: defaultdict(list))\n",
    "    for file in files:\n",
    "        author = path.basename(path.dirname(path.dirname(file)))\n",
    "        work = path.basename(path.dirname(file))\n",
    "        orged_files[author][work].append(file)\n",
    "    return orged_files"
   ]
  },
  {
   "cell_type": "code",
   "execution_count": 5,
   "metadata": {},
   "outputs": [],
   "source": [
    "data = defaultdict(lambda: defaultdict(lambda: dict))"
   ]
  },
  {
   "cell_type": "code",
   "execution_count": 13,
   "metadata": {},
   "outputs": [],
   "source": [
    "tokens = defaultdict(list)\n",
    "work_bounds = defaultct(list)"
   ]
  },
  {
   "cell_type": "code",
   "execution_count": 12,
   "metadata": {},
   "outputs": [],
   "source": [
    "files = glob.glob(\"../tei/*/*/*\")\n",
    "orged_files = org_files(files)"
   ]
  },
  {
   "cell_type": "code",
   "execution_count": 14,
   "metadata": {},
   "outputs": [
    {
     "ename": "SyntaxError",
     "evalue": "invalid syntax (<ipython-input-14-fd4b8ab5698e>, line 1)",
     "output_type": "error",
     "traceback": [
      "\u001b[0;36m  File \u001b[0;32m\"<ipython-input-14-fd4b8ab5698e>\"\u001b[0;36m, line \u001b[0;32m1\u001b[0m\n\u001b[0;31m    \"tei\": \"http://www.tei-c.org/ns/1.0\"}\u001b[0m\n\u001b[0m                                        ^\u001b[0m\n\u001b[0;31mSyntaxError\u001b[0m\u001b[0;31m:\u001b[0m invalid syntax\n"
     ]
    }
   ],
   "source": [
    "ns = {\"tei\": \"http://www.tei-c.org/ns/1.0\"}\n",
    "for author, works in orged_files.items():\n",
    "    print(f\"Working on {author}...\")\n",
    "    for work, files in works.items():\n",
    "        work_bounds[author].append({\"work\": work, \"index\":len(tokens[author])})\n",
    "        for file in files:\n",
    "            doc = path.basename(file)\n",
    "            work = path.basename(path.dirname(file))\n",
    "            author = path.basename(path.dirname(path.dirname(file)))\n",
    "            with open(file, \"rb\") as xml_file:\n",
    "                tree = ET.parse(xml_file)\n",
    "            root = tree.getroot()\n",
    "            words = root.findall(\".//tei:w\", ns)\n",
    "            for w in words:\n",
    "                tokens[author].append((w.text.lower(), w.attrib[\"lemma\"]))\n"
   ]
  },
  {
   "cell_type": "code",
   "execution_count": null,
   "metadata": {},
   "outputs": [],
   "source": []
  }
 ],
 "metadata": {
  "kernelspec": {
   "display_name": "Python 3",
   "language": "python",
   "name": "python3"
  },
  "language_info": {
   "codemirror_mode": {
    "name": "ipython",
    "version": 3
   },
   "file_extension": ".py",
   "mimetype": "text/x-python",
   "name": "python",
   "nbconvert_exporter": "python",
   "pygments_lexer": "ipython3",
   "version": "3.6.9"
  }
 },
 "nbformat": 4,
 "nbformat_minor": 2
}
