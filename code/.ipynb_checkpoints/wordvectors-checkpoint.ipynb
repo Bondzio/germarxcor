{
 "cells": [
  {
   "cell_type": "code",
   "execution_count": 1,
   "metadata": {},
   "outputs": [],
   "source": [
    "from gensim.models import Word2Vec\n",
    "from nltk.tokenize import sent_tokenize, word_tokenize"
   ]
  },
  {
   "cell_type": "code",
   "execution_count": 2,
   "metadata": {},
   "outputs": [],
   "source": [
    "# get single author's texts\n",
    "with open(\"../txt/marx_engels/marx_engels_total.txt\") as f:\n",
    "    me_total = f.read()\n",
    "with open(\"../txt/trotzki/trotzki_total.txt\") as f:\n",
    "    trotzki_total = f.read()\n",
    "with open(\"../txt/stalin/stalin_total.txt\") as f:\n",
    "    stalin_total = f.read()"
   ]
  },
  {
   "cell_type": "code",
   "execution_count": 3,
   "metadata": {},
   "outputs": [],
   "source": [
    "# get whole corpus\n",
    "with open(\"../txt/all.txt\") as f:\n",
    "    all_total = f.read()"
   ]
  },
  {
   "cell_type": "code",
   "execution_count": 4,
   "metadata": {},
   "outputs": [],
   "source": [
    "def prepare(text):\n",
    "    sents = sent_tokenize(text)\n",
    "    words = [word_tokenize(sent) for sent in sents]\n",
    "    return words"
   ]
  },
  {
   "cell_type": "code",
   "execution_count": 6,
   "metadata": {},
   "outputs": [],
   "source": [
    "# prepare single author's texts\n",
    "me_prepared = prepare(me_total)\n",
    "trotzki_prepared = prepare(trotzki_total)\n",
    "stalin_prepared = prepare(stalin_total)"
   ]
  },
  {
   "cell_type": "code",
   "execution_count": 5,
   "metadata": {},
   "outputs": [],
   "source": [
    "# prepare whole corpus\n",
    "all_prepared = prepare(all_total)"
   ]
  },
  {
   "cell_type": "code",
   "execution_count": 13,
   "metadata": {},
   "outputs": [],
   "source": [
    "# get reference corpus\n",
    "with open(\"german-amazon-reviews.txt\", encoding=\"iso-8859-15\") as f:\n",
    "    amazon = f.read()\n",
    "amazon_prepared = prepare(amazon)"
   ]
  },
  {
   "cell_type": "code",
   "execution_count": 6,
   "metadata": {},
   "outputs": [],
   "source": [
    "# build model for whole corpus\n",
    "model_all = Word2Vec(all_prepared, size=300)"
   ]
  },
  {
   "cell_type": "code",
   "execution_count": 32,
   "metadata": {},
   "outputs": [
    {
     "data": {
      "text/plain": [
       "[('Judentum', 0.5863721966743469),\n",
       " ('Triumph', 0.5830175876617432),\n",
       " ('Internationalismus', 0.5678070783615112),\n",
       " ('Evangelium', 0.5672754049301147),\n",
       " ('Terrorismus', 0.563199520111084),\n",
       " ('Auftreten', 0.5511847734451294),\n",
       " ('Fundament', 0.5495161414146423),\n",
       " ('Zektran', 0.5463460683822632),\n",
       " ('Kommunismus', 0.5422465205192566),\n",
       " ('Typ', 0.5408061146736145),\n",
       " ('Ausgang', 0.5359870195388794),\n",
       " ('Sowjetstaat', 0.5356222987174988),\n",
       " ('Demokratismus', 0.5353365540504456),\n",
       " ('Studium', 0.5315435528755188),\n",
       " ('Kräfteverhältnis', 0.5297054052352905),\n",
       " ('Pazifismus', 0.5295162200927734),\n",
       " ('Milieu', 0.5292493104934692),\n",
       " ('Umsturz', 0.5266759991645813),\n",
       " ('Trotzkismus', 0.5249322652816772),\n",
       " ('Wunsche', 0.5240627527236938),\n",
       " ('Chartismus', 0.5236687660217285),\n",
       " ('Bürokratismus', 0.5232359170913696),\n",
       " ('Parlamentarismus', 0.522665798664093),\n",
       " ('Rechtsopportunismus', 0.5224024653434753),\n",
       " ('Fortschreiten', 0.521385908126831),\n",
       " ('Pickelhäring', 0.5205150842666626),\n",
       " ('Egoismus', 0.5200573205947876),\n",
       " ('Ideal', 0.5189484357833862),\n",
       " ('Marxismus-Leninismus', 0.5185891389846802),\n",
       " ('Extrem', 0.5182821750640869),\n",
       " ('Standpunkte', 0.5182672142982483),\n",
       " ('Minimalprogramm', 0.5178709626197815),\n",
       " ('Untergang', 0.5152875781059265),\n",
       " ('Endziel', 0.5149465203285217),\n",
       " ('Ansturm', 0.5147829055786133),\n",
       " ('Publikum', 0.5124075412750244),\n",
       " ('Bolschewismus', 0.5115190744400024),\n",
       " ('Chauvinismus', 0.5084241628646851),\n",
       " ('Christentum', 0.5072119235992432),\n",
       " ('Volke', 0.5067309737205505),\n",
       " ('Erlöschen', 0.5066207051277161),\n",
       " ('Verschwinden', 0.5063620209693909),\n",
       " ('Drama', 0.5054884552955627),\n",
       " ('Grundprinzip', 0.5053175091743469),\n",
       " ('Despotismus', 0.5052435994148254),\n",
       " ('Opportunismus', 0.5049979090690613),\n",
       " ('Absterben', 0.5038050413131714),\n",
       " ('Marxismus', 0.5026533603668213),\n",
       " ('Nationalismus', 0.5012161731719971),\n",
       " ('Bestehen', 0.5003128051757812),\n",
       " ('Mittelpunkt', 0.5000355839729309),\n",
       " ('Programm', 0.4998471438884735),\n",
       " ('USA-Imperialismus', 0.49854370951652527),\n",
       " ('Zentralbüro', 0.4984424412250519),\n",
       " ('Konservatismus', 0.49820712208747864),\n",
       " ('Aufbau', 0.4981865882873535),\n",
       " ('Regime', 0.497236430644989),\n",
       " ('Militarismus', 0.4966588020324707),\n",
       " ('Grundgesetz', 0.49512988328933716),\n",
       " ('Materialismus', 0.49468550086021423),\n",
       " ('Antlitz', 0.49407047033309937),\n",
       " ('Prinzip', 0.4907408356666565),\n",
       " ('Schauplatz', 0.490582138299942),\n",
       " ('Wirken', 0.4899701476097107),\n",
       " ('Stadium', 0.4886697232723236),\n",
       " ('Patriotismus', 0.48816147446632385),\n",
       " ('Standpunkt', 0.48782023787498474),\n",
       " ('Atheismus', 0.48779213428497314),\n",
       " ('Enfield-Gewehr', 0.4876115322113037),\n",
       " ('Scheitern', 0.48760172724723816),\n",
       " ('Thema', 0.4872359335422516),\n",
       " ('Bestreben', 0.48693448305130005),\n",
       " ('Radikalismus', 0.48624908924102783),\n",
       " ('Geist', 0.48484063148498535),\n",
       " ('Denken', 0.4846832752227783),\n",
       " ('Kaiserreich', 0.48346689343452454),\n",
       " ('Gespenst', 0.4827093780040741),\n",
       " ('Zusammenbruch', 0.482471227645874),\n",
       " ('Spiegel', 0.4801223576068878),\n",
       " ('Entwicklungsgang', 0.4797861576080322),\n",
       " ('Föderalismus', 0.4797755479812622),\n",
       " ('Buche', 0.4790041148662567),\n",
       " ('Kautskyanertum', 0.47889646887779236),\n",
       " ('Vorgehen', 0.4778022766113281),\n",
       " ('Vorbild', 0.47766590118408203),\n",
       " ('Stil', 0.4762401282787323),\n",
       " ('Schicksal', 0.47546669840812683),\n",
       " ('Typus', 0.47455403208732605),\n",
       " ('Kriegsschauplatz', 0.4742094874382019),\n",
       " ('Verfall', 0.473733127117157),\n",
       " ('Wesen', 0.47266197204589844),\n",
       " ('Revisionismus', 0.4722355008125305),\n",
       " ('Zweigregionalbüro', 0.4718853831291199),\n",
       " ('Idealismus', 0.47159090638160706),\n",
       " ('Wirtschaftsaufbau', 0.47128644585609436),\n",
       " ('Horizont', 0.47128215432167053),\n",
       " ('Optimismus', 0.471088707447052),\n",
       " ('Bewusstsein', 0.471041202545166),\n",
       " ('Zerfall', 0.47091495990753174),\n",
       " ('Erbe', 0.47066211700439453)]"
      ]
     },
     "execution_count": 32,
     "metadata": {},
     "output_type": "execute_result"
    }
   ],
   "source": [
    "model_all.wv.most_similar(positive=[\"Liberalismus\", \"Proletariat\"], negative=[\"Bourgeoisie\"], topn=100)"
   ]
  },
  {
   "cell_type": "code",
   "execution_count": 41,
   "metadata": {},
   "outputs": [
    {
     "name": "stdout",
     "output_type": "stream",
     "text": [
      "me\n",
      "trotzki\n",
      "stalin\n",
      "amazon\n"
     ]
    }
   ],
   "source": [
    "# build models for single author's texts\n",
    "print(\"me\")\n",
    "model_me = Word2Vec(me_prepared, size=300)\n",
    "print(\"trotzki\")\n",
    "model_trotzki = Word2Vec(trotzki_prepared, size=300)\n",
    "print(\"stalin\")\n",
    "model_stalin = Word2Vec(stalin_prepared, size=300)\n",
    "print(\"amazon\")\n",
    "model_amazon = Word2Vec(amazon_prepared, size=300)"
   ]
  },
  {
   "cell_type": "code",
   "execution_count": 57,
   "metadata": {},
   "outputs": [
    {
     "name": "stdout",
     "output_type": "stream",
     "text": [
      "[('Flotte', 0.818668007850647), ('Truppen', 0.8157972097396851), ('Kavallerie', 0.7579588890075684), ('Artillerie', 0.7291944622993469), ('Position', 0.7245581150054932), ('Streitkräfte', 0.7153795957565308), ('Festung', 0.714713454246521), ('Garnison', 0.7123770117759705), ('Infanterie', 0.7063800096511841), ('Schlacht', 0.7007136940956116)]\n",
      "[('Bürokratie', 0.9351111650466919), ('Sozialdemokratie', 0.9092366099357605), ('Bourgeoisie', 0.9002584218978882), ('Arbeiterklasse', 0.898350715637207), ('Intelligenz', 0.8885919451713562), ('Garnison', 0.8768906593322754), ('Bauernschaft', 0.8748764395713806), ('UdSSR', 0.8641899824142456), ('Bewegung', 0.8611583709716797), ('Wirtschaft', 0.8566991090774536)]\n",
      "[('Heimat', 0.7084632515907288), ('Flotte', 0.6961424946784973), ('Truppen', 0.6792908906936646), ('Aufbauarbeit', 0.6564610600471497), ('Armeen', 0.6428441405296326), ('Front', 0.6264467239379883), ('Gewerkschaftsinternationale', 0.6186168193817139), ('Funktionäre', 0.6159325242042542), ('Parteiorganisationen', 0.6135824918746948), ('Kraft', 0.6133130192756653)]\n",
      "[('Rasse', 0.7073506116867065), ('Regierung', 0.7038128972053528), ('Kolonie', 0.6921778321266174), ('BrÃŒcke', 0.6740583777427673), ('Mauer', 0.6717073917388916), ('Gesellschaft', 0.6646957993507385), ('Bedrohung', 0.655580997467041), ('Gemeinschaft', 0.6537054777145386), ('Mission', 0.6498859524726868), ('KÃ¶nigin', 0.6478523015975952)]\n"
     ]
    }
   ],
   "source": [
    "# get lists of similar words for single author's texts\n",
    "word = \"Armee\"\n",
    "n = 10\n",
    "\n",
    "sim_me = model_me.wv.similar_by_vector(word, topn=n)\n",
    "print(sim_me)\n",
    "sim_me = {elem[0]:i+1 for i, elem in enumerate(sim_me)}\n",
    "\n",
    "sim_t = model_trotzki.wv.similar_by_vector(word, topn=n)\n",
    "print(sim_t)\n",
    "sim_t = {elem[0]:i+1 for i, elem in enumerate(sim_t)}\n",
    "\n",
    "sim_s = model_stalin.wv.similar_by_vector(word, topn=n)\n",
    "print(sim_s)\n",
    "sim_s = {elem[0]:i+1 for i, elem in enumerate(sim_s)}\n",
    "\n",
    "sim_a = model_amazon.wv.similar_by_vector(word, topn=n)\n",
    "print(sim_a)\n",
    "sim_a = {elem[0]:i+1 for i, elem in enumerate(sim_a)}"
   ]
  },
  {
   "cell_type": "code",
   "execution_count": 17,
   "metadata": {},
   "outputs": [],
   "source": [
    "def compare_lists(l1, l2):\n",
    "    d1 = {elem[0]: i+1 for i, elem in enumerate(l1)}\n",
    "    d2 = {elem[0]: i+1 for i, elem in enumerate(l2)}\n",
    "    s1 = set(d1)\n",
    "    s2 = set(d2)\n",
    "\n",
    "    res = 0\n",
    "    for elem in s1.intersection(s2):\n",
    "        res += (len(l1) - abs(d1[elem] - d2[elem])) / len(l1)**2\n",
    "    return res"
   ]
  },
  {
   "cell_type": "code",
   "execution_count": 58,
   "metadata": {},
   "outputs": [
    {
     "name": "stdout",
     "output_type": "stream",
     "text": [
      "Trotzki: 0.26\n",
      "Stalin:  0.44999999999999996\n",
      "T-S   :  0.18\n",
      "Amazon:  0.13\n"
     ]
    }
   ],
   "source": [
    "# print similarities between single authors\n",
    "print(\"Trotzki:\", compare_lists(sim_me, sim_t))\n",
    "print(\"Stalin: \", compare_lists(sim_me, sim_s))\n",
    "print(\"T-S   : \", compare_lists(sim_s, sim_t))\n",
    "print(\"Amazon: \", compare_lists(sim_me, sim_a))"
   ]
  }
 ],
 "metadata": {
  "kernelspec": {
   "display_name": "Python 3",
   "language": "python",
   "name": "python3"
  },
  "language_info": {
   "codemirror_mode": {
    "name": "ipython",
    "version": 3
   },
   "file_extension": ".py",
   "mimetype": "text/x-python",
   "name": "python",
   "nbconvert_exporter": "python",
   "pygments_lexer": "ipython3",
   "version": "3.6.8"
  }
 },
 "nbformat": 4,
 "nbformat_minor": 2
}
